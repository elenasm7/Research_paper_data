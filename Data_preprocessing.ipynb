{
 "cells": [
  {
   "cell_type": "markdown",
   "metadata": {},
   "source": [
    "# Data Cleaning, Preprocessing, and Feature Engineering\n",
    "\n",
    "In this notebook, we will read in our data. Match instances in our data to images, and add the file path to the df.\n",
    "After, joining our data, we will need to cross join to get Irradiance data with it's iterval ahead weather, irradiance, and sky images. \n",
    "\n",
    "All data was dowloaded from __[here](https://zenodo.org/record/2826939#.YEPKXi1h1pS)__. Thanks so much to the University of California San Diego team (Carreira Pedro, Hugo; Larson, David; Coimbra, Carlos) who worked so hard on collecting this data, and for supporting the work of others in this space.\n",
    "\n",
    "#### Below we will:\n",
    "1. [Create dataframes](#Create-DataFrames-for-Models)\n",
    "    - create filepaths for images\n",
    "    - get time intervals and cross join for earlier irradiance data\n",
    "    - merge weather and irradiance data\n",
    "    \n",
    "  \n",
    "2. [explore our data](#)\n",
    "3. [preprocess/scale our data](#Pre-Processing-and-Scaling)\n",
    "\n",
    "\n",
    "Import needed libraries:"
   ]
  },
  {
   "cell_type": "code",
   "execution_count": 380,
   "metadata": {},
   "outputs": [],
   "source": [
    "import pandas as pd\n",
    "import bz2\n",
    "from datetime import datetime,timedelta\n",
    "import tarfile\n",
    "import pickle\n",
    "import seaborn as sns\n",
    "import matplotlib.pyplot as plt\n",
    "import numpy as np\n",
    "from sklearn.preprocessing import MinMaxScaler\n",
    "from sklearn.model_selection import train_test_split\n",
    "from math import pi, sin\n",
    "import data_processing_functions\n",
    "\n",
    "import warnings\n",
    "warnings.filterwarnings('ignore')\n",
    "%matplotlib inline\n",
    "# import sklearn"
   ]
  },
  {
   "cell_type": "code",
   "execution_count": 398,
   "metadata": {},
   "outputs": [],
   "source": [
    "#need to look into how these may have been saved incorrectly, so if they're off then \n",
    "# they can be matched to the closest file by second, maybe there should be an upper \n",
    "# and lower time within the min?\n",
    "    "
   ]
  },
  {
   "cell_type": "markdown",
   "metadata": {},
   "source": [
    "### Create DataFrames for Models\n",
    "\n",
    "\n",
    "Open the image files to get image names:\n"
   ]
  },
  {
   "cell_type": "code",
   "execution_count": null,
   "metadata": {},
   "outputs": [],
   "source": [
    "new_img_file_names = {}\n",
    "for yr in [2014,2015,2016]:\n",
    "    f_name = f'data/Folsom_sky_images_{yr}.tar.bz2'\n",
    "    print(f_nmae)\n",
    "    tar = tarfile.open(f_name, \"r\")\n",
    "    tar_members_names = [filename for filename in tar.getnames()]\n",
    "    img_file_names[yr] = {}\n",
    "    get_all_file_names(tar_members_names,img_file_names[yr])\n"
   ]
  },
  {
   "cell_type": "code",
   "execution_count": null,
   "metadata": {},
   "outputs": [],
   "source": [
    "# save_pickle('image_file_names.pkl',new_img_file_names)\n",
    "# save_pickle('data/df_solar_and_img_data.pkl',df_merge_1)\n",
    "img_file_names = open_pickle('data/image_file_names.pkl')\n",
    "df_merge_1 = open_pickle('data/df_solar_and_img_data.pkl')"
   ]
  },
  {
   "cell_type": "markdown",
   "metadata": {},
   "source": [
    "Read in weather and irradiance data:"
   ]
  },
  {
   "cell_type": "code",
   "execution_count": null,
   "metadata": {},
   "outputs": [],
   "source": [
    "fol_irr = pd.read_csv('data/Folsom_irradiance.csv',index_col=0)\n",
    "fol_sat = pd.read_csv('data/Folsom_satellite.csv')\n",
    "fol_sky_img = pd.read_csv('data/Folsom_sky_image_features.csv',index_col=0)\n",
    "fol_weather = pd.read_csv('data/Folsom_weather.csv',index_col=0)"
   ]
  },
  {
   "cell_type": "markdown",
   "metadata": {},
   "source": [
    "Get datetime for each interval:"
   ]
  },
  {
   "cell_type": "code",
   "execution_count": null,
   "metadata": {},
   "outputs": [],
   "source": [
    "# fol_sat.columns\n",
    "datetime_blank_min_before(fol_irr,5)\n",
    "datetime_blank_min_before(fol_irr,10)\n",
    "datetime_blank_min_before(fol_irr,15)\n",
    "datetime_blank_min_before(fol_irr,20)\n",
    "datetime_blank_min_before(fol_irr,25)\n",
    "datetime_blank_min_before(fol_irr,30)"
   ]
  },
  {
   "cell_type": "code",
   "execution_count": null,
   "metadata": {},
   "outputs": [],
   "source": [
    "fol_weather['timestamp'] = pd.to_datetime(fol_weather['timestamp'])"
   ]
  },
  {
   "cell_type": "markdown",
   "metadata": {},
   "source": [
    "Merge the irradance DFs to the folsome weather DFs on the interval before: "
   ]
  },
  {
   "cell_type": "code",
   "execution_count": null,
   "metadata": {},
   "outputs": [],
   "source": [
    "df_5_min_ahead = pd.merge(fol_irr,fol_weather,how=\"left\", left_on=\"5_min_before\", right_on=\"timestamp\")\n",
    "df_10_min_ahead = pd.merge(fol_irr,fol_weather,how=\"left\", left_on=\"10_min_before\", right_on=\"timestamp\")\n",
    "df_15_min_ahead = pd.merge(fol_irr,fol_weather,how=\"left\", left_on=\"15_min_before\", right_on=\"timestamp\")\n",
    "df_20_min_ahead = pd.merge(fol_irr,fol_weather,how=\"left\", left_on=\"20_min_before\", right_on=\"timestamp\")\n",
    "df_25_min_ahead = pd.merge(fol_irr,fol_weather,how=\"left\", left_on=\"25_min_before\", right_on=\"timestamp\")\n",
    "df_30_min_ahead = pd.merge(fol_irr,fol_weather,how=\"left\", left_on=\"30_min_before\", right_on=\"timestamp\")"
   ]
  },
  {
   "cell_type": "code",
   "execution_count": null,
   "metadata": {},
   "outputs": [],
   "source": [
    "df_5_min_ahead = df_5_min_ahead.dropna()[['timestamp_x','5_min_before', 'ghi', 'dni', 'dhi',\n",
    "                                  'air_temp', 'relhum', 'press', 'windsp', 'winddir','max_windsp', \n",
    "                                  'precipitation']].rename(columns={'timestamp_x':'timestamp'})\n",
    "\n",
    "df_10_min_ahead = df_10_min_ahead.dropna()[['timestamp_x','10_min_before', 'ghi', 'dni', 'dhi',\n",
    "                                  'air_temp', 'relhum', 'press', 'windsp', 'winddir','max_windsp', \n",
    "                                  'precipitation']].rename(columns={'timestamp_x':'timestamp'})\n",
    "\n",
    "df_15_min_ahead = df_15_min_ahead.dropna()[['timestamp_x','15_min_before', 'ghi', 'dni', 'dhi',\n",
    "                                  'air_temp', 'relhum', 'press', 'windsp', 'winddir','max_windsp', \n",
    "                                  'precipitation']].rename(columns={'timestamp_x':'timestamp'})\n",
    "\n",
    "df_20_min_ahead = df_20_min_ahead.dropna()[['timestamp_x','20_min_before', 'ghi', 'dni', 'dhi',\n",
    "                                  'air_temp', 'relhum', 'press', 'windsp', 'winddir','max_windsp', \n",
    "                                  'precipitation']].rename(columns={'timestamp_x':'timestamp'})\n",
    "\n",
    "df_25_min_ahead = df_25_min_ahead.dropna()[['timestamp_x','25_min_before', 'ghi', 'dni', 'dhi',\n",
    "                                  'air_temp', 'relhum', 'press', 'windsp', 'winddir','max_windsp', \n",
    "                                  'precipitation']].rename(columns={'timestamp_x':'timestamp'})\n",
    "\n",
    "df_30_min_ahead = df_30_min_ahead.dropna()[['timestamp_x','30_min_before', 'ghi', 'dni', 'dhi',\n",
    "                                  'air_temp', 'relhum', 'press', 'windsp', 'winddir','max_windsp', \n",
    "                                  'precipitation']].rename(columns={'timestamp_x':'timestamp'})"
   ]
  },
  {
   "cell_type": "code",
   "execution_count": null,
   "metadata": {},
   "outputs": [],
   "source": [
    "for table in [df_5_min_ahead,df_10_min_ahead,df_15_min_ahead,df_20_min_ahead,df_25_min_ahead,df_30_min_ahead]:\n",
    "#     print(table.columns[1])\n",
    "    breakdown_dates(table,table.columns[1])"
   ]
  },
  {
   "cell_type": "markdown",
   "metadata": {},
   "source": [
    "Using functions get the times below and above ours to match the image files to:"
   ]
  },
  {
   "cell_type": "code",
   "execution_count": null,
   "metadata": {},
   "outputs": [],
   "source": [
    "for table in [df_5_min_ahead,df_10_min_ahead,df_15_min_ahead,df_20_min_ahead,df_25_min_ahead,df_30_min_ahead]:\n",
    "    print(table.columns[1])\n",
    "    table['higher_file'] = table.apply(lambda row: make_higher_image_path(row),axis=1)\n",
    "    table['lower_file'] = table.apply(lambda row: make_lower_image_path(row),axis=1)"
   ]
  },
  {
   "cell_type": "markdown",
   "metadata": {},
   "source": [
    "Get the correct image file that falls between the two columns above:"
   ]
  },
  {
   "cell_type": "code",
   "execution_count": null,
   "metadata": {},
   "outputs": [],
   "source": [
    "for table in [df_5_min_ahead,df_10_min_ahead,df_15_min_ahead,df_20_min_ahead,df_25_min_ahead,df_30_min_ahead]:\n",
    "    print(table.columns[1])\n",
    "    table['file'] = table.apply(lambda row: get_correct_file(row,img_file_names),axis=1)"
   ]
  },
  {
   "cell_type": "markdown",
   "metadata": {},
   "source": [
    "Only get instances where we have files for:"
   ]
  },
  {
   "cell_type": "code",
   "execution_count": null,
   "metadata": {},
   "outputs": [],
   "source": [
    "df_5_min_ahead_w_img = df_5_min_ahead[(~df_5_min_ahead.file.isnull()) & (df_5_min_ahead.file != 0)]\n",
    "df_10_min_ahead_w_img = df_10_min_ahead[(~df_10_min_ahead.file.isnull()) & (df_10_min_ahead.file != 0)]\n",
    "df_15_min_ahead_w_img = df_15_min_ahead[(~df_15_min_ahead.file.isnull()) & (df_15_min_ahead.file != 0)]\n",
    "df_20_min_ahead_w_img = df_20_min_ahead[(~df_20_min_ahead.file.isnull()) & (df_20_min_ahead.file != 0)]\n",
    "df_25_min_ahead_w_img = df_25_min_ahead[(~df_25_min_ahead.file.isnull()) & (df_25_min_ahead.file != 0)]\n",
    "df_30_min_ahead_w_img = df_30_min_ahead[(~df_30_min_ahead.file.isnull()) & (df_30_min_ahead.file != 0)]"
   ]
  },
  {
   "cell_type": "code",
   "execution_count": 3,
   "metadata": {},
   "outputs": [],
   "source": [
    "# save_pickle(\"df_5_min_ahead_data.pkl\",df_5_min_ahead_w_img)\n",
    "# save_pickle(\"df_10_min_ahead_data.pkl\",df_10_min_ahead_w_img)\n",
    "# save_pickle(\"df_15_min_ahead_data.pkl\",df_15_min_ahead_w_img)\n",
    "# save_pickle(\"df_20_min_ahead_data.pkl\",df_20_min_ahead_w_img)\n",
    "# save_pickle(\"df_25_min_ahead_data.pkl\",df_25_min_ahead_w_img)\n",
    "# save_pickle(\"df_30_min_ahead_data.pkl\",df_30_min_ahead_w_img)\n",
    "df_5_min_ahead_w_img = open_pickle(\"df_5_min_ahead_data.pkl\")\n",
    "df_10_min_ahead_w_img = open_pickle(\"df_10_min_ahead_data.pkl\")\n",
    "df_15_min_ahead_w_img = open_pickle(\"df_15_min_ahead_data.pkl\")\n",
    "df_20_min_ahead_w_img = open_pickle(\"df_20_min_ahead_data.pkl\")\n",
    "df_25_min_ahead_w_img = open_pickle(\"df_25_min_ahead_data.pkl\")\n",
    "df_30_min_ahead_w_img = open_pickle(\"df_30_min_ahead_data.pkl\")"
   ]
  },
  {
   "cell_type": "code",
   "execution_count": 4,
   "metadata": {},
   "outputs": [],
   "source": [
    "df_5_min_ahead_w_img = df_5_min_ahead_w_img[['timestamp', '5_min_before', 'ghi', 'air_temp', \n",
    "                                             'relhum','press', 'windsp', 'winddir', \n",
    "                                             'max_windsp', 'precipitation', 'file']]\n",
    "df_10_min_ahead_w_img = df_10_min_ahead_w_img[['timestamp', '10_min_before', 'ghi','air_temp', \n",
    "                                               'relhum','press', 'windsp', 'winddir', \n",
    "                                               'max_windsp', 'precipitation', 'file']]\n",
    "df_15_min_ahead_w_img = df_15_min_ahead_w_img[['timestamp', '15_min_before', 'ghi', \n",
    "                                               'air_temp', 'relhum','press', 'windsp', 'winddir', \n",
    "                                               'max_windsp', 'precipitation', 'file']]\n",
    "df_20_min_ahead_w_img = df_20_min_ahead_w_img[['timestamp', '20_min_before', 'ghi', \n",
    "                                               'air_temp', 'relhum','press', 'windsp', 'winddir', \n",
    "                                               'max_windsp', 'precipitation', 'file']]\n",
    "df_25_min_ahead_w_img = df_25_min_ahead_w_img[['timestamp', '25_min_before', 'ghi', \n",
    "                                               'air_temp', 'relhum','press', 'windsp', 'winddir', \n",
    "                                               'max_windsp', 'precipitation', 'file']]\n",
    "df_30_min_ahead_w_img = df_30_min_ahead_w_img[['timestamp', '30_min_before', 'ghi', \n",
    "                                               'air_temp', 'relhum','press', 'windsp', 'winddir', \n",
    "                                               'max_windsp', 'precipitation', 'file']]"
   ]
  },
  {
   "cell_type": "markdown",
   "metadata": {},
   "source": [
    "Update datetime format on all DFs before we join to get irradiance from earlier timestamps:"
   ]
  },
  {
   "cell_type": "code",
   "execution_count": 6,
   "metadata": {},
   "outputs": [],
   "source": [
    "for df in [df_5_min_ahead_w_img,df_10_min_ahead_w_img,df_15_min_ahead_w_img,\n",
    "           df_20_min_ahead_w_img,df_25_min_ahead_w_img,df_30_min_ahead_w_img]:\n",
    "    \n",
    "    df['timestamp'] = pd.to_datetime(df['timestamp'])"
   ]
  },
  {
   "cell_type": "markdown",
   "metadata": {},
   "source": [
    "Now join tables, to match on their time ahead intervals. This will give us the irradiance at the time interval before."
   ]
  },
  {
   "cell_type": "code",
   "execution_count": 12,
   "metadata": {},
   "outputs": [],
   "source": [
    "df_5_min = df_5_min_ahead_w_img.merge(fol_irr,how=\"left\", left_on=\"5_min_before\", right_on=\"timestamp\")\n",
    "df_10_min = df_10_min_ahead_w_img.merge(fol_irr,how=\"left\", left_on=\"10_min_before\", right_on=\"timestamp\")\n",
    "df_15_min = df_15_min_ahead_w_img.merge(fol_irr,how=\"left\", left_on=\"15_min_before\", right_on=\"timestamp\")\n",
    "df_20_min = df_20_min_ahead_w_img.merge(fol_irr,how=\"left\", left_on=\"20_min_before\", right_on=\"timestamp\")\n",
    "df_25_min = df_25_min_ahead_w_img.merge(fol_irr,how=\"left\", left_on=\"25_min_before\", right_on=\"timestamp\")\n",
    "df_30_min = df_30_min_ahead_w_img.merge(fol_irr,how=\"left\", left_on=\"30_min_before\", right_on=\"timestamp\")"
   ]
  },
  {
   "cell_type": "code",
   "execution_count": 17,
   "metadata": {},
   "outputs": [],
   "source": [
    "# df_20_min.head(21)"
   ]
  },
  {
   "cell_type": "markdown",
   "metadata": {},
   "source": [
    "Using the fuction to get the columns we are supposed to have:"
   ]
  },
  {
   "cell_type": "code",
   "execution_count": 18,
   "metadata": {},
   "outputs": [],
   "source": [
    "df_5_min = update_df_for_model(df_5_min,\"5_min_before\")\n",
    "df_10_min = update_df_for_model(df_10_min,\"10_min_before\")\n",
    "df_15_min = update_df_for_model(df_15_min,\"15_min_before\")\n",
    "df_20_min = update_df_for_model(df_20_min,\"20_min_before\")\n",
    "df_25_min = update_df_for_model(df_25_min,\"25_min_before\")\n",
    "df_30_min = update_df_for_model(df_30_min,\"30_min_before\")"
   ]
  },
  {
   "cell_type": "code",
   "execution_count": 370,
   "metadata": {},
   "outputs": [],
   "source": [
    "# save_pickle(\"../data_rp/df_5_min_data.pkl\",df_5_min)\n",
    "# save_pickle(\"../data_rp/df_10_min_data.pkl\",df_10_min)\n",
    "# save_pickle(\"../data_rp/df_15_min_data.pkl\",df_15_min)\n",
    "# save_pickle(\"../data_rp/df_20_min_data.pkl\",df_20_min)\n",
    "# save_pickle(\"../data_rp/df_25_min_data.pkl\",df_25_min)\n",
    "# save_pickle(\"../data_rp/df_30_min_data.pkl\",df_30_min)\n",
    "df_5_min = open_pickle(\"../data_rp/df_5_min_data.pkl\")\n",
    "df_10_min = open_pickle(\"../data_rp/df_10_min_data.pkl\")\n",
    "df_15_min = open_pickle(\"../data_rp/df_15_min_data.pkl\")\n",
    "df_20_min = open_pickle(\"../data_rp/df_20_min_data.pkl\")\n",
    "df_25_min = open_pickle(\"../data_rp/df_25_min_data.pkl\")\n",
    "df_30_min = open_pickle(\"../data_rp/df_30_min_data.pkl\")"
   ]
  },
  {
   "cell_type": "code",
   "execution_count": 371,
   "metadata": {},
   "outputs": [
    {
     "data": {
      "text/html": [
       "<div>\n",
       "<style scoped>\n",
       "    .dataframe tbody tr th:only-of-type {\n",
       "        vertical-align: middle;\n",
       "    }\n",
       "\n",
       "    .dataframe tbody tr th {\n",
       "        vertical-align: top;\n",
       "    }\n",
       "\n",
       "    .dataframe thead th {\n",
       "        text-align: right;\n",
       "    }\n",
       "</style>\n",
       "<table border=\"1\" class=\"dataframe\">\n",
       "  <thead>\n",
       "    <tr style=\"text-align: right;\">\n",
       "      <th></th>\n",
       "      <th>Y</th>\n",
       "      <th>timestamp</th>\n",
       "      <th>5_min_before</th>\n",
       "      <th>air_temp</th>\n",
       "      <th>relhum</th>\n",
       "      <th>press</th>\n",
       "      <th>windsp</th>\n",
       "      <th>winddir</th>\n",
       "      <th>max_windsp</th>\n",
       "      <th>precipitation</th>\n",
       "      <th>file</th>\n",
       "      <th>5_min_before_i</th>\n",
       "    </tr>\n",
       "  </thead>\n",
       "  <tbody>\n",
       "    <tr>\n",
       "      <th>0</th>\n",
       "      <td>2.52</td>\n",
       "      <td>2014-01-02 15:33:00</td>\n",
       "      <td>2014-01-02 15:28:00</td>\n",
       "      <td>2.80</td>\n",
       "      <td>75.06</td>\n",
       "      <td>1010.0</td>\n",
       "      <td>2.00</td>\n",
       "      <td>199.6</td>\n",
       "      <td>2.6</td>\n",
       "      <td>0.0</td>\n",
       "      <td>2014/01/02/20140102_152808.jpg</td>\n",
       "      <td>4.87</td>\n",
       "    </tr>\n",
       "    <tr>\n",
       "      <th>1</th>\n",
       "      <td>3.17</td>\n",
       "      <td>2014-01-02 15:34:00</td>\n",
       "      <td>2014-01-02 15:29:00</td>\n",
       "      <td>2.70</td>\n",
       "      <td>75.50</td>\n",
       "      <td>1010.0</td>\n",
       "      <td>1.74</td>\n",
       "      <td>190.4</td>\n",
       "      <td>2.4</td>\n",
       "      <td>0.0</td>\n",
       "      <td>2014/01/02/20140102_152907.jpg</td>\n",
       "      <td>5.59</td>\n",
       "    </tr>\n",
       "    <tr>\n",
       "      <th>2</th>\n",
       "      <td>3.90</td>\n",
       "      <td>2014-01-02 15:35:00</td>\n",
       "      <td>2014-01-02 15:30:00</td>\n",
       "      <td>2.70</td>\n",
       "      <td>75.54</td>\n",
       "      <td>1010.0</td>\n",
       "      <td>1.78</td>\n",
       "      <td>193.6</td>\n",
       "      <td>2.3</td>\n",
       "      <td>0.0</td>\n",
       "      <td>2014/01/02/20140102_153008.jpg</td>\n",
       "      <td>1.23</td>\n",
       "    </tr>\n",
       "    <tr>\n",
       "      <th>3</th>\n",
       "      <td>4.64</td>\n",
       "      <td>2014-01-02 15:36:00</td>\n",
       "      <td>2014-01-02 15:31:00</td>\n",
       "      <td>2.70</td>\n",
       "      <td>74.98</td>\n",
       "      <td>1010.0</td>\n",
       "      <td>1.72</td>\n",
       "      <td>192.2</td>\n",
       "      <td>2.1</td>\n",
       "      <td>0.0</td>\n",
       "      <td>2014/01/02/20140102_153108.jpg</td>\n",
       "      <td>1.62</td>\n",
       "    </tr>\n",
       "    <tr>\n",
       "      <th>4</th>\n",
       "      <td>5.36</td>\n",
       "      <td>2014-01-02 15:37:00</td>\n",
       "      <td>2014-01-02 15:32:00</td>\n",
       "      <td>2.62</td>\n",
       "      <td>74.76</td>\n",
       "      <td>1010.0</td>\n",
       "      <td>1.66</td>\n",
       "      <td>188.2</td>\n",
       "      <td>2.4</td>\n",
       "      <td>0.0</td>\n",
       "      <td>2014/01/02/20140102_153208.jpg</td>\n",
       "      <td>2.04</td>\n",
       "    </tr>\n",
       "  </tbody>\n",
       "</table>\n",
       "</div>"
      ],
      "text/plain": [
       "      Y           timestamp        5_min_before  air_temp  relhum   press  \\\n",
       "0  2.52 2014-01-02 15:33:00 2014-01-02 15:28:00      2.80   75.06  1010.0   \n",
       "1  3.17 2014-01-02 15:34:00 2014-01-02 15:29:00      2.70   75.50  1010.0   \n",
       "2  3.90 2014-01-02 15:35:00 2014-01-02 15:30:00      2.70   75.54  1010.0   \n",
       "3  4.64 2014-01-02 15:36:00 2014-01-02 15:31:00      2.70   74.98  1010.0   \n",
       "4  5.36 2014-01-02 15:37:00 2014-01-02 15:32:00      2.62   74.76  1010.0   \n",
       "\n",
       "   windsp  winddir  max_windsp  precipitation                            file  \\\n",
       "0    2.00    199.6         2.6            0.0  2014/01/02/20140102_152808.jpg   \n",
       "1    1.74    190.4         2.4            0.0  2014/01/02/20140102_152907.jpg   \n",
       "2    1.78    193.6         2.3            0.0  2014/01/02/20140102_153008.jpg   \n",
       "3    1.72    192.2         2.1            0.0  2014/01/02/20140102_153108.jpg   \n",
       "4    1.66    188.2         2.4            0.0  2014/01/02/20140102_153208.jpg   \n",
       "\n",
       "   5_min_before_i  \n",
       "0            4.87  \n",
       "1            5.59  \n",
       "2            1.23  \n",
       "3            1.62  \n",
       "4            2.04  "
      ]
     },
     "execution_count": 371,
     "metadata": {},
     "output_type": "execute_result"
    }
   ],
   "source": [
    "df_5_min.head()"
   ]
  },
  {
   "cell_type": "code",
   "execution_count": 374,
   "metadata": {},
   "outputs": [],
   "source": [
    "for df in [df_5_min,df_10_min,df_15_min,df_20_min,df_25_min,df_30_min]:\n",
    "    breakdown_dates(df,'timestamp')\n",
    "    df['season'] = df.month.apply(lambda row: replace_m_w_season(row))"
   ]
  },
  {
   "cell_type": "code",
   "execution_count": 375,
   "metadata": {},
   "outputs": [
    {
     "data": {
      "text/plain": [
       "Index(['Y', 'timestamp', '5_min_before', 'air_temp', 'relhum', 'press',\n",
       "       'windsp', 'winddir', 'max_windsp', 'precipitation', 'file',\n",
       "       '5_min_before_i', 'year', 'month', 'day', 'hour', 'minute', 'season'],\n",
       "      dtype='object')"
      ]
     },
     "execution_count": 375,
     "metadata": {},
     "output_type": "execute_result"
    }
   ],
   "source": [
    "df_5_min.columns"
   ]
  },
  {
   "cell_type": "code",
   "execution_count": 56,
   "metadata": {},
   "outputs": [
    {
     "data": {
      "text/plain": [
       "Index(['Y', 'timestamp', '5_min_before', 'air_temp', 'relhum', 'press',\n",
       "       'windsp', 'winddir', 'max_windsp', 'precipitation', 'file',\n",
       "       '5_min_before_i', 'year', 'month', 'day', 'hour', 'min', 'sec',\n",
       "       'season'],\n",
       "      dtype='object')"
      ]
     },
     "execution_count": 56,
     "metadata": {},
     "output_type": "execute_result"
    }
   ],
   "source": [
    "df_5_min.columns"
   ]
  },
  {
   "cell_type": "code",
   "execution_count": 301,
   "metadata": {},
   "outputs": [],
   "source": [
    "# t = 5\n",
    "# for df in [df_5_min,df_10_min,df_15_min,df_20_min,df_25_min,df_30_min]:\n",
    "#     df.drop(['day','min','sec'], axis=1,inplace=True)\n",
    "#     df.drop(['month'], axis=1,inplace=True)\n",
    "\n",
    "#     col = f'{t}_min_before'\n",
    "#     col_1 = f'{t}_min_before_i'\n",
    "# #     print(t,col,col_1)\n",
    "#     df = df[['Y', 'timestamp', col, 'air_temp', 'relhum', 'press',\n",
    "#        'windsp', 'winddir', 'max_windsp', 'precipitation', 'file',\n",
    "#        col_1, 'year', 'month', 'hour','season']]\n",
    "#     t += 5"
   ]
  },
  {
   "cell_type": "code",
   "execution_count": 377,
   "metadata": {},
   "outputs": [],
   "source": [
    "sampled_dfs = {}\n",
    "m = 5\n",
    "for df in [df_5_min,df_10_min,df_15_min,df_20_min,df_25_min,df_30_min]:\n",
    "    name = f\"df_{m}_min\"\n",
    "    col = f\"{m}_min_before\"\n",
    "#     df.drop(['day','min','sec'], axis=1,inplace=True)\n",
    "    d = df.sample(n=10000,random_state=42)\n",
    "#     breakdown_dates(d,'timestamp')\n",
    "    d.drop(['timestamp',col], axis=1,inplace=True)\n",
    "    sampled_dfs[name] = d\n",
    "    m += 5"
   ]
  },
  {
   "cell_type": "code",
   "execution_count": 378,
   "metadata": {},
   "outputs": [
    {
     "data": {
      "text/plain": [
       "Index(['Y', 'air_temp', 'relhum', 'press', 'windsp', 'winddir', 'max_windsp',\n",
       "       'precipitation', 'file', '5_min_before_i', 'year', 'month', 'day',\n",
       "       'hour', 'minute', 'season'],\n",
       "      dtype='object')"
      ]
     },
     "execution_count": 378,
     "metadata": {},
     "output_type": "execute_result"
    }
   ],
   "source": [
    "sampled_dfs['df_5_min'].columns"
   ]
  },
  {
   "cell_type": "code",
   "execution_count": 784,
   "metadata": {},
   "outputs": [
    {
     "data": {
      "text/html": [
       "<div>\n",
       "<style scoped>\n",
       "    .dataframe tbody tr th:only-of-type {\n",
       "        vertical-align: middle;\n",
       "    }\n",
       "\n",
       "    .dataframe tbody tr th {\n",
       "        vertical-align: top;\n",
       "    }\n",
       "\n",
       "    .dataframe thead th {\n",
       "        text-align: right;\n",
       "    }\n",
       "</style>\n",
       "<table border=\"1\" class=\"dataframe\">\n",
       "  <thead>\n",
       "    <tr style=\"text-align: right;\">\n",
       "      <th></th>\n",
       "      <th>Y</th>\n",
       "      <th>air_temp</th>\n",
       "      <th>relhum</th>\n",
       "      <th>press</th>\n",
       "      <th>windsp</th>\n",
       "      <th>winddir</th>\n",
       "      <th>max_windsp</th>\n",
       "      <th>precipitation</th>\n",
       "      <th>file</th>\n",
       "      <th>5_min_before_i</th>\n",
       "      <th>year</th>\n",
       "      <th>month</th>\n",
       "      <th>day</th>\n",
       "      <th>hour</th>\n",
       "      <th>minute</th>\n",
       "      <th>season</th>\n",
       "    </tr>\n",
       "  </thead>\n",
       "  <tbody>\n",
       "    <tr>\n",
       "      <th>212504</th>\n",
       "      <td>16.37</td>\n",
       "      <td>11.10</td>\n",
       "      <td>74.34</td>\n",
       "      <td>1004.0</td>\n",
       "      <td>1.46</td>\n",
       "      <td>55.0</td>\n",
       "      <td>2.1</td>\n",
       "      <td>0.0</td>\n",
       "      <td>2014/11/09/20141109_145759.jpg</td>\n",
       "      <td>12.83</td>\n",
       "      <td>2014</td>\n",
       "      <td>11</td>\n",
       "      <td>9</td>\n",
       "      <td>15</td>\n",
       "      <td>3</td>\n",
       "      <td>4</td>\n",
       "    </tr>\n",
       "    <tr>\n",
       "      <th>730167</th>\n",
       "      <td>147.30</td>\n",
       "      <td>17.10</td>\n",
       "      <td>51.86</td>\n",
       "      <td>1004.0</td>\n",
       "      <td>0.30</td>\n",
       "      <td>128.9</td>\n",
       "      <td>0.5</td>\n",
       "      <td>0.0</td>\n",
       "      <td>2016/10/31/20161031_224459.jpg</td>\n",
       "      <td>163.50</td>\n",
       "      <td>2016</td>\n",
       "      <td>10</td>\n",
       "      <td>31</td>\n",
       "      <td>22</td>\n",
       "      <td>50</td>\n",
       "      <td>4</td>\n",
       "    </tr>\n",
       "    <tr>\n",
       "      <th>650333</th>\n",
       "      <td>529.20</td>\n",
       "      <td>19.54</td>\n",
       "      <td>51.86</td>\n",
       "      <td>1000.0</td>\n",
       "      <td>1.46</td>\n",
       "      <td>144.2</td>\n",
       "      <td>3.2</td>\n",
       "      <td>0.0</td>\n",
       "      <td>2016/07/17/20160717_155708.jpg</td>\n",
       "      <td>514.10</td>\n",
       "      <td>2016</td>\n",
       "      <td>7</td>\n",
       "      <td>17</td>\n",
       "      <td>16</td>\n",
       "      <td>2</td>\n",
       "      <td>3</td>\n",
       "    </tr>\n",
       "    <tr>\n",
       "      <th>540543</th>\n",
       "      <td>557.40</td>\n",
       "      <td>22.60</td>\n",
       "      <td>29.70</td>\n",
       "      <td>1007.0</td>\n",
       "      <td>1.66</td>\n",
       "      <td>175.0</td>\n",
       "      <td>2.8</td>\n",
       "      <td>0.0</td>\n",
       "      <td>2016/03/01/20160301_223608.jpg</td>\n",
       "      <td>568.50</td>\n",
       "      <td>2016</td>\n",
       "      <td>3</td>\n",
       "      <td>1</td>\n",
       "      <td>22</td>\n",
       "      <td>41</td>\n",
       "      <td>2</td>\n",
       "    </tr>\n",
       "    <tr>\n",
       "      <th>272258</th>\n",
       "      <td>318.50</td>\n",
       "      <td>14.42</td>\n",
       "      <td>73.84</td>\n",
       "      <td>1008.0</td>\n",
       "      <td>1.50</td>\n",
       "      <td>300.2</td>\n",
       "      <td>2.0</td>\n",
       "      <td>0.0</td>\n",
       "      <td>2015/02/19/20150219_220511.jpg</td>\n",
       "      <td>262.70</td>\n",
       "      <td>2015</td>\n",
       "      <td>2</td>\n",
       "      <td>19</td>\n",
       "      <td>22</td>\n",
       "      <td>10</td>\n",
       "      <td>1</td>\n",
       "    </tr>\n",
       "  </tbody>\n",
       "</table>\n",
       "</div>"
      ],
      "text/plain": [
       "             Y  air_temp  relhum   press  windsp  winddir  max_windsp  \\\n",
       "212504   16.37     11.10   74.34  1004.0    1.46     55.0         2.1   \n",
       "730167  147.30     17.10   51.86  1004.0    0.30    128.9         0.5   \n",
       "650333  529.20     19.54   51.86  1000.0    1.46    144.2         3.2   \n",
       "540543  557.40     22.60   29.70  1007.0    1.66    175.0         2.8   \n",
       "272258  318.50     14.42   73.84  1008.0    1.50    300.2         2.0   \n",
       "\n",
       "        precipitation                            file  5_min_before_i  year  \\\n",
       "212504            0.0  2014/11/09/20141109_145759.jpg           12.83  2014   \n",
       "730167            0.0  2016/10/31/20161031_224459.jpg          163.50  2016   \n",
       "650333            0.0  2016/07/17/20160717_155708.jpg          514.10  2016   \n",
       "540543            0.0  2016/03/01/20160301_223608.jpg          568.50  2016   \n",
       "272258            0.0  2015/02/19/20150219_220511.jpg          262.70  2015   \n",
       "\n",
       "        month  day  hour  minute  season  \n",
       "212504     11    9    15       3       4  \n",
       "730167     10   31    22      50       4  \n",
       "650333      7   17    16       2       3  \n",
       "540543      3    1    22      41       2  \n",
       "272258      2   19    22      10       1  "
      ]
     },
     "execution_count": 784,
     "metadata": {},
     "output_type": "execute_result"
    }
   ],
   "source": [
    "sampled_dfs['df_5_min'].head()"
   ]
  },
  {
   "cell_type": "markdown",
   "metadata": {},
   "source": [
    "### Data Exploration:"
   ]
  },
  {
   "cell_type": "code",
   "execution_count": 71,
   "metadata": {},
   "outputs": [],
   "source": [
    "previews = []\n",
    "described = []\n",
    "for df in [df_5_min,df_10_min,df_15_min,df_20_min,df_25_min,df_30_min]:\n",
    "    previews.append(preview_df(df))\n",
    "    described.append(df.describe())"
   ]
  },
  {
   "cell_type": "code",
   "execution_count": 73,
   "metadata": {},
   "outputs": [
    {
     "data": {
      "text/html": [
       "<div>\n",
       "<style scoped>\n",
       "    .dataframe tbody tr th:only-of-type {\n",
       "        vertical-align: middle;\n",
       "    }\n",
       "\n",
       "    .dataframe tbody tr th {\n",
       "        vertical-align: top;\n",
       "    }\n",
       "\n",
       "    .dataframe thead th {\n",
       "        text-align: right;\n",
       "    }\n",
       "</style>\n",
       "<table border=\"1\" class=\"dataframe\">\n",
       "  <thead>\n",
       "    <tr style=\"text-align: right;\">\n",
       "      <th></th>\n",
       "      <th>Y</th>\n",
       "      <th>air_temp</th>\n",
       "      <th>relhum</th>\n",
       "      <th>press</th>\n",
       "      <th>windsp</th>\n",
       "      <th>winddir</th>\n",
       "      <th>max_windsp</th>\n",
       "      <th>precipitation</th>\n",
       "      <th>30_min_before_i</th>\n",
       "      <th>year</th>\n",
       "      <th>month</th>\n",
       "      <th>hour</th>\n",
       "      <th>season</th>\n",
       "    </tr>\n",
       "  </thead>\n",
       "  <tbody>\n",
       "    <tr>\n",
       "      <th>count</th>\n",
       "      <td>764846.000000</td>\n",
       "      <td>764846.000000</td>\n",
       "      <td>764846.000000</td>\n",
       "      <td>764846.000000</td>\n",
       "      <td>764846.000000</td>\n",
       "      <td>764846.000000</td>\n",
       "      <td>764846.000000</td>\n",
       "      <td>764846.000000</td>\n",
       "      <td>764846.000000</td>\n",
       "      <td>764846.000000</td>\n",
       "      <td>764846.000000</td>\n",
       "      <td>764846.000000</td>\n",
       "      <td>764846.000000</td>\n",
       "    </tr>\n",
       "    <tr>\n",
       "      <th>mean</th>\n",
       "      <td>412.049214</td>\n",
       "      <td>21.337232</td>\n",
       "      <td>44.304767</td>\n",
       "      <td>1003.443749</td>\n",
       "      <td>1.567333</td>\n",
       "      <td>216.414405</td>\n",
       "      <td>2.518340</td>\n",
       "      <td>0.002666</td>\n",
       "      <td>412.803596</td>\n",
       "      <td>2015.023526</td>\n",
       "      <td>6.506350</td>\n",
       "      <td>14.907275</td>\n",
       "      <td>2.575090</td>\n",
       "    </tr>\n",
       "    <tr>\n",
       "      <th>std</th>\n",
       "      <td>296.527848</td>\n",
       "      <td>8.384509</td>\n",
       "      <td>21.283695</td>\n",
       "      <td>4.969679</td>\n",
       "      <td>0.890709</td>\n",
       "      <td>76.316673</td>\n",
       "      <td>1.312563</td>\n",
       "      <td>0.035558</td>\n",
       "      <td>295.533668</td>\n",
       "      <td>0.810692</td>\n",
       "      <td>3.215236</td>\n",
       "      <td>7.712866</td>\n",
       "      <td>1.052862</td>\n",
       "    </tr>\n",
       "    <tr>\n",
       "      <th>min</th>\n",
       "      <td>0.000000</td>\n",
       "      <td>-2.900000</td>\n",
       "      <td>4.860000</td>\n",
       "      <td>983.000000</td>\n",
       "      <td>0.000000</td>\n",
       "      <td>0.000000</td>\n",
       "      <td>0.000000</td>\n",
       "      <td>0.000000</td>\n",
       "      <td>0.000000</td>\n",
       "      <td>2014.000000</td>\n",
       "      <td>1.000000</td>\n",
       "      <td>0.000000</td>\n",
       "      <td>1.000000</td>\n",
       "    </tr>\n",
       "    <tr>\n",
       "      <th>25%</th>\n",
       "      <td>142.200000</td>\n",
       "      <td>14.700000</td>\n",
       "      <td>26.940000</td>\n",
       "      <td>1000.000000</td>\n",
       "      <td>0.940000</td>\n",
       "      <td>153.400000</td>\n",
       "      <td>1.600000</td>\n",
       "      <td>0.000000</td>\n",
       "      <td>142.300000</td>\n",
       "      <td>2014.000000</td>\n",
       "      <td>4.000000</td>\n",
       "      <td>14.000000</td>\n",
       "      <td>2.000000</td>\n",
       "    </tr>\n",
       "    <tr>\n",
       "      <th>50%</th>\n",
       "      <td>381.500000</td>\n",
       "      <td>20.580000</td>\n",
       "      <td>40.480000</td>\n",
       "      <td>1003.000000</td>\n",
       "      <td>1.420000</td>\n",
       "      <td>228.500000</td>\n",
       "      <td>2.300000</td>\n",
       "      <td>0.000000</td>\n",
       "      <td>381.500000</td>\n",
       "      <td>2015.000000</td>\n",
       "      <td>7.000000</td>\n",
       "      <td>17.000000</td>\n",
       "      <td>3.000000</td>\n",
       "    </tr>\n",
       "    <tr>\n",
       "      <th>75%</th>\n",
       "      <td>658.300000</td>\n",
       "      <td>27.840000</td>\n",
       "      <td>59.640000</td>\n",
       "      <td>1007.000000</td>\n",
       "      <td>2.000000</td>\n",
       "      <td>280.700000</td>\n",
       "      <td>3.200000</td>\n",
       "      <td>0.000000</td>\n",
       "      <td>658.300000</td>\n",
       "      <td>2016.000000</td>\n",
       "      <td>9.000000</td>\n",
       "      <td>20.000000</td>\n",
       "      <td>3.000000</td>\n",
       "    </tr>\n",
       "    <tr>\n",
       "      <th>max</th>\n",
       "      <td>1466.000000</td>\n",
       "      <td>42.780000</td>\n",
       "      <td>94.000000</td>\n",
       "      <td>1021.000000</td>\n",
       "      <td>9.300000</td>\n",
       "      <td>360.000000</td>\n",
       "      <td>13.500000</td>\n",
       "      <td>4.770000</td>\n",
       "      <td>1466.000000</td>\n",
       "      <td>2016.000000</td>\n",
       "      <td>12.000000</td>\n",
       "      <td>23.000000</td>\n",
       "      <td>4.000000</td>\n",
       "    </tr>\n",
       "  </tbody>\n",
       "</table>\n",
       "</div>"
      ],
      "text/plain": [
       "                   Y       air_temp         relhum          press  \\\n",
       "count  764846.000000  764846.000000  764846.000000  764846.000000   \n",
       "mean      412.049214      21.337232      44.304767    1003.443749   \n",
       "std       296.527848       8.384509      21.283695       4.969679   \n",
       "min         0.000000      -2.900000       4.860000     983.000000   \n",
       "25%       142.200000      14.700000      26.940000    1000.000000   \n",
       "50%       381.500000      20.580000      40.480000    1003.000000   \n",
       "75%       658.300000      27.840000      59.640000    1007.000000   \n",
       "max      1466.000000      42.780000      94.000000    1021.000000   \n",
       "\n",
       "              windsp        winddir     max_windsp  precipitation  \\\n",
       "count  764846.000000  764846.000000  764846.000000  764846.000000   \n",
       "mean        1.567333     216.414405       2.518340       0.002666   \n",
       "std         0.890709      76.316673       1.312563       0.035558   \n",
       "min         0.000000       0.000000       0.000000       0.000000   \n",
       "25%         0.940000     153.400000       1.600000       0.000000   \n",
       "50%         1.420000     228.500000       2.300000       0.000000   \n",
       "75%         2.000000     280.700000       3.200000       0.000000   \n",
       "max         9.300000     360.000000      13.500000       4.770000   \n",
       "\n",
       "       30_min_before_i           year          month           hour  \\\n",
       "count    764846.000000  764846.000000  764846.000000  764846.000000   \n",
       "mean        412.803596    2015.023526       6.506350      14.907275   \n",
       "std         295.533668       0.810692       3.215236       7.712866   \n",
       "min           0.000000    2014.000000       1.000000       0.000000   \n",
       "25%         142.300000    2014.000000       4.000000      14.000000   \n",
       "50%         381.500000    2015.000000       7.000000      17.000000   \n",
       "75%         658.300000    2016.000000       9.000000      20.000000   \n",
       "max        1466.000000    2016.000000      12.000000      23.000000   \n",
       "\n",
       "              season  \n",
       "count  764846.000000  \n",
       "mean        2.575090  \n",
       "std         1.052862  \n",
       "min         1.000000  \n",
       "25%         2.000000  \n",
       "50%         3.000000  \n",
       "75%         3.000000  \n",
       "max         4.000000  "
      ]
     },
     "execution_count": 73,
     "metadata": {},
     "output_type": "execute_result"
    }
   ],
   "source": [
    "described[5]"
   ]
  },
  {
   "cell_type": "code",
   "execution_count": 783,
   "metadata": {},
   "outputs": [
    {
     "data": {
      "text/html": [
       "<div>\n",
       "<style scoped>\n",
       "    .dataframe tbody tr th:only-of-type {\n",
       "        vertical-align: middle;\n",
       "    }\n",
       "\n",
       "    .dataframe tbody tr th {\n",
       "        vertical-align: top;\n",
       "    }\n",
       "\n",
       "    .dataframe thead th {\n",
       "        text-align: right;\n",
       "    }\n",
       "</style>\n",
       "<table border=\"1\" class=\"dataframe\">\n",
       "  <thead>\n",
       "    <tr style=\"text-align: right;\">\n",
       "      <th></th>\n",
       "      <th>timestamp</th>\n",
       "      <th>5_min_before</th>\n",
       "      <th>air_temp</th>\n",
       "      <th>relhum</th>\n",
       "      <th>press</th>\n",
       "      <th>windsp</th>\n",
       "      <th>winddir</th>\n",
       "      <th>max_windsp</th>\n",
       "      <th>precipitation</th>\n",
       "      <th>file</th>\n",
       "      <th>5_min_before_i</th>\n",
       "      <th>year</th>\n",
       "      <th>month</th>\n",
       "      <th>day</th>\n",
       "      <th>hour</th>\n",
       "      <th>minute</th>\n",
       "      <th>season</th>\n",
       "    </tr>\n",
       "  </thead>\n",
       "  <tbody>\n",
       "    <tr>\n",
       "      <th>0</th>\n",
       "      <td>2014-01-02 15:33:00</td>\n",
       "      <td>2014-01-02 15:28:00</td>\n",
       "      <td>2.80</td>\n",
       "      <td>75.06</td>\n",
       "      <td>1010.0</td>\n",
       "      <td>2.00</td>\n",
       "      <td>199.6</td>\n",
       "      <td>2.6</td>\n",
       "      <td>0.0</td>\n",
       "      <td>2014/01/02/20140102_152808.jpg</td>\n",
       "      <td>4.87</td>\n",
       "      <td>2014</td>\n",
       "      <td>1</td>\n",
       "      <td>2</td>\n",
       "      <td>15</td>\n",
       "      <td>33</td>\n",
       "      <td>1</td>\n",
       "    </tr>\n",
       "    <tr>\n",
       "      <th>1</th>\n",
       "      <td>2014-01-02 15:34:00</td>\n",
       "      <td>2014-01-02 15:29:00</td>\n",
       "      <td>2.70</td>\n",
       "      <td>75.50</td>\n",
       "      <td>1010.0</td>\n",
       "      <td>1.74</td>\n",
       "      <td>190.4</td>\n",
       "      <td>2.4</td>\n",
       "      <td>0.0</td>\n",
       "      <td>2014/01/02/20140102_152907.jpg</td>\n",
       "      <td>5.59</td>\n",
       "      <td>2014</td>\n",
       "      <td>1</td>\n",
       "      <td>2</td>\n",
       "      <td>15</td>\n",
       "      <td>34</td>\n",
       "      <td>1</td>\n",
       "    </tr>\n",
       "    <tr>\n",
       "      <th>2</th>\n",
       "      <td>2014-01-02 15:35:00</td>\n",
       "      <td>2014-01-02 15:30:00</td>\n",
       "      <td>2.70</td>\n",
       "      <td>75.54</td>\n",
       "      <td>1010.0</td>\n",
       "      <td>1.78</td>\n",
       "      <td>193.6</td>\n",
       "      <td>2.3</td>\n",
       "      <td>0.0</td>\n",
       "      <td>2014/01/02/20140102_153008.jpg</td>\n",
       "      <td>1.23</td>\n",
       "      <td>2014</td>\n",
       "      <td>1</td>\n",
       "      <td>2</td>\n",
       "      <td>15</td>\n",
       "      <td>35</td>\n",
       "      <td>1</td>\n",
       "    </tr>\n",
       "    <tr>\n",
       "      <th>3</th>\n",
       "      <td>2014-01-02 15:36:00</td>\n",
       "      <td>2014-01-02 15:31:00</td>\n",
       "      <td>2.70</td>\n",
       "      <td>74.98</td>\n",
       "      <td>1010.0</td>\n",
       "      <td>1.72</td>\n",
       "      <td>192.2</td>\n",
       "      <td>2.1</td>\n",
       "      <td>0.0</td>\n",
       "      <td>2014/01/02/20140102_153108.jpg</td>\n",
       "      <td>1.62</td>\n",
       "      <td>2014</td>\n",
       "      <td>1</td>\n",
       "      <td>2</td>\n",
       "      <td>15</td>\n",
       "      <td>36</td>\n",
       "      <td>1</td>\n",
       "    </tr>\n",
       "    <tr>\n",
       "      <th>4</th>\n",
       "      <td>2014-01-02 15:37:00</td>\n",
       "      <td>2014-01-02 15:32:00</td>\n",
       "      <td>2.62</td>\n",
       "      <td>74.76</td>\n",
       "      <td>1010.0</td>\n",
       "      <td>1.66</td>\n",
       "      <td>188.2</td>\n",
       "      <td>2.4</td>\n",
       "      <td>0.0</td>\n",
       "      <td>2014/01/02/20140102_153208.jpg</td>\n",
       "      <td>2.04</td>\n",
       "      <td>2014</td>\n",
       "      <td>1</td>\n",
       "      <td>2</td>\n",
       "      <td>15</td>\n",
       "      <td>37</td>\n",
       "      <td>1</td>\n",
       "    </tr>\n",
       "  </tbody>\n",
       "</table>\n",
       "</div>"
      ],
      "text/plain": [
       "            timestamp        5_min_before  air_temp  relhum   press  windsp  \\\n",
       "0 2014-01-02 15:33:00 2014-01-02 15:28:00      2.80   75.06  1010.0    2.00   \n",
       "1 2014-01-02 15:34:00 2014-01-02 15:29:00      2.70   75.50  1010.0    1.74   \n",
       "2 2014-01-02 15:35:00 2014-01-02 15:30:00      2.70   75.54  1010.0    1.78   \n",
       "3 2014-01-02 15:36:00 2014-01-02 15:31:00      2.70   74.98  1010.0    1.72   \n",
       "4 2014-01-02 15:37:00 2014-01-02 15:32:00      2.62   74.76  1010.0    1.66   \n",
       "\n",
       "   winddir  max_windsp  precipitation                            file  \\\n",
       "0    199.6         2.6            0.0  2014/01/02/20140102_152808.jpg   \n",
       "1    190.4         2.4            0.0  2014/01/02/20140102_152907.jpg   \n",
       "2    193.6         2.3            0.0  2014/01/02/20140102_153008.jpg   \n",
       "3    192.2         2.1            0.0  2014/01/02/20140102_153108.jpg   \n",
       "4    188.2         2.4            0.0  2014/01/02/20140102_153208.jpg   \n",
       "\n",
       "   5_min_before_i  year  month  day  hour  minute  season  \n",
       "0            4.87  2014      1    2    15      33       1  \n",
       "1            5.59  2014      1    2    15      34       1  \n",
       "2            1.23  2014      1    2    15      35       1  \n",
       "3            1.62  2014      1    2    15      36       1  \n",
       "4            2.04  2014      1    2    15      37       1  "
      ]
     },
     "execution_count": 783,
     "metadata": {},
     "output_type": "execute_result"
    }
   ],
   "source": [
    "df_5_min[df_5_min.columns[1:]].head()"
   ]
  },
  {
   "cell_type": "code",
   "execution_count": 106,
   "metadata": {},
   "outputs": [
    {
     "name": "stdout",
     "output_type": "stream",
     "text": [
      "['year', 'month', 'season']\n"
     ]
    }
   ],
   "source": [
    "cols = df_5_min.columns[-4:-2].to_list()\n",
    "cols.append(df_5_min.columns[-1])\n",
    "print(cols)"
   ]
  },
  {
   "cell_type": "code",
   "execution_count": 108,
   "metadata": {},
   "outputs": [
    {
     "data": {
      "text/plain": [
       "Index(['Y', 'timestamp', '5_min_before', 'air_temp', 'relhum', 'press',\n",
       "       'windsp', 'winddir', 'max_windsp', 'precipitation', 'file',\n",
       "       '5_min_before_i', 'year', 'month', 'hour', 'season'],\n",
       "      dtype='object')"
      ]
     },
     "execution_count": 108,
     "metadata": {},
     "output_type": "execute_result"
    }
   ],
   "source": [
    "df_5_min.columns"
   ]
  },
  {
   "cell_type": "markdown",
   "metadata": {},
   "source": [
    "### Pre Processing and Scaling\n",
    "\n",
    "first lets save this data, for other tests in the future with different transformations:"
   ]
  },
  {
   "cell_type": "code",
   "execution_count": 381,
   "metadata": {},
   "outputs": [],
   "source": [
    "save_pickle('../data_rp/sampled_raw_data.pkl',sampled_dfs)\n",
    "# print (math.sin(math.pi/2))"
   ]
  },
  {
   "cell_type": "markdown",
   "metadata": {},
   "source": [
    "Train-test split: following regular proportions (pareto method)."
   ]
  },
  {
   "cell_type": "code",
   "execution_count": 394,
   "metadata": {},
   "outputs": [],
   "source": [
    "train_test_data = {}\n",
    "t = 5\n",
    "for df_name in sampled_dfs.keys():\n",
    "    df = sampled_dfs[df_name]\n",
    "    train_test_data[df_name] = {}\n",
    "    x_cols = df.columns[1:].to_list()\n",
    "    train_test_data[df_name]['file'] = df['file']\n",
    "    x_cols.remove('file')\n",
    "    X_train, X_test, y_train, y_test = train_test_split(df[x_cols], df[df.columns[0]], \n",
    "                                                        test_size=0.20, random_state=42)\n",
    "    train_test_data[df_name]['X_train'] = X_train\n",
    "    train_test_data[df_name]['X_test'] = X_test\n",
    "    train_test_data[df_name]['y_train'] = y_train\n",
    "    train_test_data[df_name]['y_test'] = y_test\n",
    "    t += 5\n",
    "    "
   ]
  },
  {
   "cell_type": "markdown",
   "metadata": {},
   "source": [
    "Below we pass our train-test data through the processing function to onehot encode categorical features, min-max scale our continuous features, and transform all time data using the sine function. All data other than time data, will be between [0,1] with time data between [-1,1]. This transformation/scalining will help our model converge more quickly."
   ]
  },
  {
   "cell_type": "code",
   "execution_count": 399,
   "metadata": {},
   "outputs": [
    {
     "name": "stdout",
     "output_type": "stream",
     "text": [
      "df_5_min\n",
      "df_10_min\n",
      "df_15_min\n",
      "df_20_min\n",
      "df_25_min\n",
      "df_30_min\n"
     ]
    }
   ],
   "source": [
    "t = 5\n",
    "for _ in range(0,6):\n",
    "    df_name = f'df_{t}_min'\n",
    "    train = train_test_data[df_name]['X_train']\n",
    "    test = train_test_data[df_name]['X_test']\n",
    "    x_train,x_test = process_timeahead_attributes(t,train,test,time_to_period)\n",
    "    train_test_data[df_name]['X_train_p'],train_test_data[df_name]['X_test_p'] = x_train,x_test\n",
    "    print(df_name)\n",
    "    t+=5\n",
    "#     process_timeahead_attributes(con_cols,cat_cols,train,test)"
   ]
  },
  {
   "cell_type": "code",
   "execution_count": 406,
   "metadata": {},
   "outputs": [],
   "source": [
    "save_pickle('../data_rp/model_data_dict.pkl',train_test_data)"
   ]
  },
  {
   "cell_type": "code",
   "execution_count": null,
   "metadata": {},
   "outputs": [],
   "source": [
    "# df_5_min.describe()\n",
    "# df_10_min.describe()\n",
    "# df_15_min.describe()\n",
    "# df_20_min.describe()\n",
    "# df_25_min.describe()\n",
    "# df_30_min.describe()\n",
    "\n",
    "# sns.distplot(df_5_min['5_min_before_i']);\n",
    "# sns.distplot(df_5_min['Y']);\n",
    "# sns.distplot(df_5_min['air_temp']);\n",
    "# g = sns.PairGrid(df_5_min, height=3.5)\n",
    "# g.map(sns.scatterplot)\n",
    "\n",
    "# corr = df_5_min.corr()\n",
    "# plt.figure(figsize=(30,20))\n",
    "# mask = np.zeros_like(corr)\n",
    "# mask[np.triu_indices_from(mask)] = True\n",
    "# with sns.axes_style(\"white\"):\n",
    "#     ax = sns.heatmap(corr,mask=mask,center=0,cmap=\"coolwarm\",annot=True,linewidths=.5)\n",
    "\n",
    "# corr = df_30_min.corr()\n",
    "# plt.figure(figsize=(30,20))\n",
    "# mask = np.zeros_like(corr)\n",
    "# mask[np.triu_indices_from(mask)] = True\n",
    "# with sns.axes_style(\"white\"):\n",
    "#     ax = sns.heatmap(corr,mask=mask,center=0,cmap=\"coolwarm\",annot=True,linewidths=.5)"
   ]
  }
 ],
 "metadata": {
  "kernelspec": {
   "display_name": "research_paper",
   "language": "python",
   "name": "research_paper"
  },
  "language_info": {
   "codemirror_mode": {
    "name": "ipython",
    "version": 3
   },
   "file_extension": ".py",
   "mimetype": "text/x-python",
   "name": "python",
   "nbconvert_exporter": "python",
   "pygments_lexer": "ipython3",
   "version": "3.7.2"
  }
 },
 "nbformat": 4,
 "nbformat_minor": 4
}
