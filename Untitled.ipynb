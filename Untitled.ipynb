{
 "cells": [
  {
   "cell_type": "code",
   "execution_count": 8,
   "metadata": {},
   "outputs": [],
   "source": [
    "import pandas as pd\n",
    "import bz2"
   ]
  },
  {
   "cell_type": "code",
   "execution_count": null,
   "metadata": {},
   "outputs": [],
   "source": [
    "head = ['timestamp']+[str(i) for i in list(range(0,100))]"
   ]
  },
  {
   "cell_type": "code",
   "execution_count": 2,
   "metadata": {},
   "outputs": [
    {
     "name": "stderr",
     "output_type": "stream",
     "text": [
      "/Users/elena.morais/Documents/environments/reseach_paper/lib/python3.7/site-packages/numpy/lib/arraysetops.py:580: FutureWarning: elementwise comparison failed; returning scalar instead, but in the future will perform elementwise comparison\n",
      "  mask |= (ar1 == a)\n"
     ]
    }
   ],
   "source": [
    "fol_irr = pd.read_csv('../data/Folsom_irradiance.csv',index_col=0)\n",
    "fol_sat = pd.read_csv('../data/Folsom_satellite.csv')\n",
    "fol_sky_img = pd.read_csv('../data/Folsom_sky_image_features.csv',index_col=0)\n",
    "fol_weather = pd.read_csv('../data/Folsom_weather.csv',index_col=0)"
   ]
  },
  {
   "cell_type": "code",
   "execution_count": null,
   "metadata": {},
   "outputs": [],
   "source": [
    "# fol_sat.columns"
   ]
  },
  {
   "cell_type": "code",
   "execution_count": 3,
   "metadata": {},
   "outputs": [],
   "source": [
    "def breakdown_dates(df): \n",
    "    df['year'] = pd.DatetimeIndex(df['timestamp']).year\n",
    "    df['month'] = pd.DatetimeIndex(df['timestamp']).month\n",
    "    df['day'] = pd.DatetimeIndex(df['timestamp']).day\n",
    "    df['hour'] = pd.DatetimeIndex(df['timestamp']).hour\n",
    "    df['min'] = pd.DatetimeIndex(df['timestamp']).minute\n",
    "    return"
   ]
  },
  {
   "cell_type": "code",
   "execution_count": 4,
   "metadata": {},
   "outputs": [],
   "source": [
    "for table in [fol_irr,fol_sat,fol_sky_img,fol_weather]:\n",
    "    breakdown_dates(table)"
   ]
  },
  {
   "cell_type": "code",
   "execution_count": 5,
   "metadata": {},
   "outputs": [],
   "source": [
    "df_merge_1 = pd.merge(fol_irr,fol_weather,how=\"left\", on=\"timestamp\")"
   ]
  },
  {
   "cell_type": "code",
   "execution_count": 6,
   "metadata": {},
   "outputs": [],
   "source": [
    "df_merge_1 = df_merge_1.dropna()[['timestamp','year_x', 'month_x', 'day_x',\n",
    "       'hour_x', 'min_x', 'ghi', 'dni', 'dhi', 'air_temp', 'relhum', 'press', 'windsp', 'winddir',\n",
    "       'max_windsp', 'precipitation']].rename(columns={'year_x':'year','month_x':'month', 'day_x':'day',\n",
    "       'hour_x':'hour', 'min_x':'min'})"
   ]
  },
  {
   "cell_type": "code",
   "execution_count": 7,
   "metadata": {},
   "outputs": [
    {
     "data": {
      "text/plain": [
       "timestamp        1551702\n",
       "year             1551702\n",
       "month            1551702\n",
       "day              1551702\n",
       "hour             1551702\n",
       "min              1551702\n",
       "ghi              1551702\n",
       "dni              1551702\n",
       "dhi              1551702\n",
       "air_temp         1551702\n",
       "relhum           1551702\n",
       "press            1551702\n",
       "windsp           1551702\n",
       "winddir          1551702\n",
       "max_windsp       1551702\n",
       "precipitation    1551702\n",
       "dtype: int64"
      ]
     },
     "execution_count": 7,
     "metadata": {},
     "output_type": "execute_result"
    }
   ],
   "source": [
    "df_merge_1.count()"
   ]
  },
  {
   "cell_type": "markdown",
   "metadata": {},
   "source": [
    "765159\n",
    "vs.\n",
    "279863"
   ]
  },
  {
   "cell_type": "code",
   "execution_count": null,
   "metadata": {},
   "outputs": [],
   "source": [
    "merge_test_2 = pd.merge(fol_irr, fol_sky_img,\n",
    "                        how=\"left\", on=\"timestamp\")\n",
    "merge_test_2.dropna()"
   ]
  },
  {
   "cell_type": "code",
   "execution_count": null,
   "metadata": {},
   "outputs": [],
   "source": [
    "merge_test = pd.merge(fol_irr, fol_sky_img,\n",
    "                        how=\"left\", on=[\"year\",\"month\",\"day\",\"hour\",\"min\"])"
   ]
  },
  {
   "cell_type": "code",
   "execution_count": null,
   "metadata": {},
   "outputs": [],
   "source": [
    "merge_test.dropna()"
   ]
  },
  {
   "cell_type": "code",
   "execution_count": null,
   "metadata": {},
   "outputs": [],
   "source": [
    "merge_test"
   ]
  },
  {
   "cell_type": "code",
   "execution_count": null,
   "metadata": {},
   "outputs": [],
   "source": [
    "fol_irr.head()"
   ]
  },
  {
   "cell_type": "code",
   "execution_count": null,
   "metadata": {},
   "outputs": [],
   "source": [
    "fol_sat.head()"
   ]
  },
  {
   "cell_type": "code",
   "execution_count": null,
   "metadata": {},
   "outputs": [],
   "source": [
    "# fol_sky_img.rename(columns={'timestamp':'timeStamp'},inplace=True)\n",
    "# fol_sky_img.head()\n",
    "# fol_sky_img[fol_sky_img['timeStamp']=='2014-01-02 08:00:00']\n",
    "# fol_waether.iloc[0,0]"
   ]
  },
  {
   "cell_type": "code",
   "execution_count": 9,
   "metadata": {},
   "outputs": [],
   "source": [
    "img_2014 = bz2.open('../data/Folsom_sky_images_2014.tar.bz2')\n",
    "img_2015 = bz2.open('../data/Folsom_sky_images_2015.tar.bz2')\n",
    "img_2016 = bz2.open('../data/Folsom_sky_images_2016.tar.bz2')"
   ]
  },
  {
   "cell_type": "code",
   "execution_count": 10,
   "metadata": {},
   "outputs": [
    {
     "data": {
      "text/plain": [
       "<bz2.BZ2File at 0x7fdd7379ad68>"
      ]
     },
     "execution_count": 10,
     "metadata": {},
     "output_type": "execute_result"
    }
   ],
   "source": [
    "img_2014"
   ]
  },
  {
   "cell_type": "code",
   "execution_count": 11,
   "metadata": {},
   "outputs": [],
   "source": [
    "import tarfile\n",
    "tar = tarfile.open('../data/Folsom_sky_images_2014.tar.bz2', 'r')"
   ]
  },
  {
   "cell_type": "code",
   "execution_count": 12,
   "metadata": {},
   "outputs": [
    {
     "data": {
      "text/plain": [
       "<tarfile.TarFile at 0x7fdd5280e4a8>"
      ]
     },
     "execution_count": 12,
     "metadata": {},
     "output_type": "execute_result"
    }
   ],
   "source": [
    "tar"
   ]
  },
  {
   "cell_type": "code",
   "execution_count": 13,
   "metadata": {},
   "outputs": [],
   "source": [
    "tar_members_names = [filename for filename in tar.getnames()]\n"
   ]
  },
  {
   "cell_type": "code",
   "execution_count": 15,
   "metadata": {},
   "outputs": [
    {
     "data": {
      "text/plain": [
       "250976"
      ]
     },
     "execution_count": 15,
     "metadata": {},
     "output_type": "execute_result"
    }
   ],
   "source": [
    "len(tar_members_names)"
   ]
  },
  {
   "cell_type": "code",
   "execution_count": 16,
   "metadata": {},
   "outputs": [
    {
     "data": {
      "text/plain": [
       "274624"
      ]
     },
     "execution_count": 16,
     "metadata": {},
     "output_type": "execute_result"
    }
   ],
   "source": []
  },
  {
   "cell_type": "code",
   "execution_count": null,
   "metadata": {},
   "outputs": [],
   "source": []
  }
 ],
 "metadata": {
  "kernelspec": {
   "display_name": "research_paper",
   "language": "python",
   "name": "research_paper"
  },
  "language_info": {
   "codemirror_mode": {
    "name": "ipython",
    "version": 3
   },
   "file_extension": ".py",
   "mimetype": "text/x-python",
   "name": "python",
   "nbconvert_exporter": "python",
   "pygments_lexer": "ipython3",
   "version": "3.7.2"
  }
 },
 "nbformat": 4,
 "nbformat_minor": 4
}
